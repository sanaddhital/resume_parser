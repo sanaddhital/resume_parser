{
 "cells": [
  {
   "cell_type": "code",
   "execution_count": 1,
   "metadata": {},
   "outputs": [
    {
     "name": "stdout",
     "output_type": "stream",
     "text": [
      "Collecting https://github.com/explosion/spacy-models/releases/download/en_core_web_sm-2.3.1/en_core_web_sm-2.3.1.tar.gz\n",
      "  Downloading https://github.com/explosion/spacy-models/releases/download/en_core_web_sm-2.3.1/en_core_web_sm-2.3.1.tar.gz (12.0 MB)\n",
      "\u001b[2K     \u001b[90m━━━━━━━━━━━━━━━━━━━━━━━━━━━━━━━━━━━━━━━━\u001b[0m \u001b[32m12.0/12.0 MB\u001b[0m \u001b[31m8.5 MB/s\u001b[0m eta \u001b[36m0:00:00\u001b[0m00:01\u001b[0m00:01\u001b[0m\n",
      "\u001b[?25h  Preparing metadata (setup.py) ... \u001b[?25ldone\n",
      "\u001b[?25hRequirement already satisfied: spacy<2.4.0,>=2.3.0 in /opt/miniconda3/envs/datapractise/lib/python3.10/site-packages (from en-core-web-sm==2.3.1) (2.3.9)\n",
      "Requirement already satisfied: tqdm<5.0.0,>=4.38.0 in /opt/miniconda3/envs/datapractise/lib/python3.10/site-packages (from spacy<2.4.0,>=2.3.0->en-core-web-sm==2.3.1) (4.66.1)\n",
      "Requirement already satisfied: plac<1.2.0,>=0.9.6 in /opt/miniconda3/envs/datapractise/lib/python3.10/site-packages (from spacy<2.4.0,>=2.3.0->en-core-web-sm==2.3.1) (1.1.3)\n",
      "Requirement already satisfied: setuptools in /opt/miniconda3/envs/datapractise/lib/python3.10/site-packages (from spacy<2.4.0,>=2.3.0->en-core-web-sm==2.3.1) (65.3.0)\n",
      "Requirement already satisfied: thinc<7.5.0,>=7.4.1 in /opt/miniconda3/envs/datapractise/lib/python3.10/site-packages (from spacy<2.4.0,>=2.3.0->en-core-web-sm==2.3.1) (7.4.6)\n",
      "Requirement already satisfied: preshed<3.1.0,>=3.0.2 in /opt/miniconda3/envs/datapractise/lib/python3.10/site-packages (from spacy<2.4.0,>=2.3.0->en-core-web-sm==2.3.1) (3.0.9)\n",
      "Requirement already satisfied: requests<3.0.0,>=2.13.0 in /opt/miniconda3/envs/datapractise/lib/python3.10/site-packages (from spacy<2.4.0,>=2.3.0->en-core-web-sm==2.3.1) (2.28.1)\n",
      "Requirement already satisfied: numpy>=1.15.0 in /opt/miniconda3/envs/datapractise/lib/python3.10/site-packages (from spacy<2.4.0,>=2.3.0->en-core-web-sm==2.3.1) (1.23.2)\n",
      "Requirement already satisfied: blis<0.8.0,>=0.4.0 in /opt/miniconda3/envs/datapractise/lib/python3.10/site-packages (from spacy<2.4.0,>=2.3.0->en-core-web-sm==2.3.1) (0.7.11)\n",
      "Requirement already satisfied: wasabi<1.1.0,>=0.4.0 in /opt/miniconda3/envs/datapractise/lib/python3.10/site-packages (from spacy<2.4.0,>=2.3.0->en-core-web-sm==2.3.1) (0.10.1)\n",
      "Requirement already satisfied: srsly<1.1.0,>=1.0.2 in /opt/miniconda3/envs/datapractise/lib/python3.10/site-packages (from spacy<2.4.0,>=2.3.0->en-core-web-sm==2.3.1) (1.0.7)\n",
      "Requirement already satisfied: murmurhash<1.1.0,>=0.28.0 in /opt/miniconda3/envs/datapractise/lib/python3.10/site-packages (from spacy<2.4.0,>=2.3.0->en-core-web-sm==2.3.1) (1.0.10)\n",
      "Requirement already satisfied: catalogue<1.1.0,>=0.0.7 in /opt/miniconda3/envs/datapractise/lib/python3.10/site-packages (from spacy<2.4.0,>=2.3.0->en-core-web-sm==2.3.1) (1.0.2)\n",
      "Requirement already satisfied: cymem<2.1.0,>=2.0.2 in /opt/miniconda3/envs/datapractise/lib/python3.10/site-packages (from spacy<2.4.0,>=2.3.0->en-core-web-sm==2.3.1) (2.0.8)\n",
      "Requirement already satisfied: charset-normalizer<3,>=2 in /opt/miniconda3/envs/datapractise/lib/python3.10/site-packages (from requests<3.0.0,>=2.13.0->spacy<2.4.0,>=2.3.0->en-core-web-sm==2.3.1) (2.1.1)\n",
      "Requirement already satisfied: urllib3<1.27,>=1.21.1 in /opt/miniconda3/envs/datapractise/lib/python3.10/site-packages (from requests<3.0.0,>=2.13.0->spacy<2.4.0,>=2.3.0->en-core-web-sm==2.3.1) (1.26.12)\n",
      "Requirement already satisfied: idna<4,>=2.5 in /opt/miniconda3/envs/datapractise/lib/python3.10/site-packages (from requests<3.0.0,>=2.13.0->spacy<2.4.0,>=2.3.0->en-core-web-sm==2.3.1) (3.4)\n",
      "Requirement already satisfied: certifi>=2017.4.17 in /opt/miniconda3/envs/datapractise/lib/python3.10/site-packages (from requests<3.0.0,>=2.13.0->spacy<2.4.0,>=2.3.0->en-core-web-sm==2.3.1) (2022.6.15)\n"
     ]
    }
   ],
   "source": [
    "!pip install https://github.com/explosion/spacy-models/releases/download/en_core_web_sm-2.3.1/en_core_web_sm-2.3.1.tar.gz"
   ]
  },
  {
   "cell_type": "code",
   "execution_count": 3,
   "metadata": {},
   "outputs": [
    {
     "name": "stdout",
     "output_type": "stream",
     "text": [
      "Requirement already satisfied: pyresparser in /opt/miniconda3/envs/datapractise/lib/python3.10/site-packages (1.0.6)\n",
      "Requirement already satisfied: jsonschema>=3.0.1 in /opt/miniconda3/envs/datapractise/lib/python3.10/site-packages (from pyresparser) (4.14.0)\n",
      "Requirement already satisfied: tqdm>=4.32.2 in /opt/miniconda3/envs/datapractise/lib/python3.10/site-packages (from pyresparser) (4.66.1)\n",
      "Requirement already satisfied: requests>=2.22.0 in /opt/miniconda3/envs/datapractise/lib/python3.10/site-packages (from pyresparser) (2.28.1)\n",
      "Requirement already satisfied: pyrsistent>=0.15.2 in /opt/miniconda3/envs/datapractise/lib/python3.10/site-packages (from pyresparser) (0.18.1)\n",
      "Requirement already satisfied: blis>=0.2.4 in /opt/miniconda3/envs/datapractise/lib/python3.10/site-packages (from pyresparser) (0.7.11)\n",
      "Requirement already satisfied: docx2txt>=0.7 in /opt/miniconda3/envs/datapractise/lib/python3.10/site-packages (from pyresparser) (0.8)\n",
      "Requirement already satisfied: urllib3>=1.25.3 in /opt/miniconda3/envs/datapractise/lib/python3.10/site-packages (from pyresparser) (1.26.12)\n",
      "Requirement already satisfied: srsly>=0.0.7 in /opt/miniconda3/envs/datapractise/lib/python3.10/site-packages (from pyresparser) (1.0.7)\n",
      "Requirement already satisfied: thinc>=7.0.4 in /opt/miniconda3/envs/datapractise/lib/python3.10/site-packages (from pyresparser) (7.4.6)\n",
      "Requirement already satisfied: python-dateutil>=2.8.0 in /opt/miniconda3/envs/datapractise/lib/python3.10/site-packages (from pyresparser) (2.8.2)\n",
      "Requirement already satisfied: pandas>=0.24.2 in /opt/miniconda3/envs/datapractise/lib/python3.10/site-packages (from pyresparser) (1.4.3)\n",
      "Requirement already satisfied: pytz>=2019.1 in /opt/miniconda3/envs/datapractise/lib/python3.10/site-packages (from pyresparser) (2022.2.1)\n",
      "Requirement already satisfied: spacy>=2.1.4 in /opt/miniconda3/envs/datapractise/lib/python3.10/site-packages (from pyresparser) (2.3.9)\n",
      "Requirement already satisfied: sortedcontainers>=2.1.0 in /opt/miniconda3/envs/datapractise/lib/python3.10/site-packages (from pyresparser) (2.4.0)\n",
      "Requirement already satisfied: six>=1.12.0 in /opt/miniconda3/envs/datapractise/lib/python3.10/site-packages (from pyresparser) (1.16.0)\n",
      "Requirement already satisfied: attrs>=19.1.0 in /opt/miniconda3/envs/datapractise/lib/python3.10/site-packages (from pyresparser) (22.1.0)\n",
      "Requirement already satisfied: cymem>=2.0.2 in /opt/miniconda3/envs/datapractise/lib/python3.10/site-packages (from pyresparser) (2.0.8)\n",
      "Requirement already satisfied: chardet>=3.0.4 in /opt/miniconda3/envs/datapractise/lib/python3.10/site-packages (from pyresparser) (5.2.0)\n",
      "Requirement already satisfied: nltk>=3.4.3 in /opt/miniconda3/envs/datapractise/lib/python3.10/site-packages (from pyresparser) (3.8.1)\n",
      "Requirement already satisfied: preshed>=2.0.1 in /opt/miniconda3/envs/datapractise/lib/python3.10/site-packages (from pyresparser) (3.0.9)\n",
      "Requirement already satisfied: pycryptodome>=3.8.2 in /opt/miniconda3/envs/datapractise/lib/python3.10/site-packages (from pyresparser) (3.19.1)\n",
      "Requirement already satisfied: certifi>=2019.6.16 in /opt/miniconda3/envs/datapractise/lib/python3.10/site-packages (from pyresparser) (2022.6.15)\n",
      "Requirement already satisfied: wasabi>=0.2.2 in /opt/miniconda3/envs/datapractise/lib/python3.10/site-packages (from pyresparser) (0.10.1)\n",
      "Requirement already satisfied: idna>=2.8 in /opt/miniconda3/envs/datapractise/lib/python3.10/site-packages (from pyresparser) (3.4)\n",
      "Requirement already satisfied: pdfminer.six>=20181108 in /opt/miniconda3/envs/datapractise/lib/python3.10/site-packages (from pyresparser) (20231228)\n",
      "Requirement already satisfied: numpy>=1.16.4 in /opt/miniconda3/envs/datapractise/lib/python3.10/site-packages (from pyresparser) (1.23.2)\n",
      "Requirement already satisfied: regex>=2021.8.3 in /opt/miniconda3/envs/datapractise/lib/python3.10/site-packages (from nltk>=3.4.3->pyresparser) (2023.12.25)\n",
      "Requirement already satisfied: joblib in /opt/miniconda3/envs/datapractise/lib/python3.10/site-packages (from nltk>=3.4.3->pyresparser) (1.1.0)\n",
      "Requirement already satisfied: click in /opt/miniconda3/envs/datapractise/lib/python3.10/site-packages (from nltk>=3.4.3->pyresparser) (8.1.7)\n",
      "Requirement already satisfied: charset-normalizer>=2.0.0 in /opt/miniconda3/envs/datapractise/lib/python3.10/site-packages (from pdfminer.six>=20181108->pyresparser) (2.1.1)\n",
      "Requirement already satisfied: cryptography>=36.0.0 in /opt/miniconda3/envs/datapractise/lib/python3.10/site-packages (from pdfminer.six>=20181108->pyresparser) (41.0.7)\n",
      "Requirement already satisfied: murmurhash<1.1.0,>=0.28.0 in /opt/miniconda3/envs/datapractise/lib/python3.10/site-packages (from preshed>=2.0.1->pyresparser) (1.0.10)\n",
      "Requirement already satisfied: catalogue<1.1.0,>=0.0.7 in /opt/miniconda3/envs/datapractise/lib/python3.10/site-packages (from spacy>=2.1.4->pyresparser) (1.0.2)\n",
      "Requirement already satisfied: setuptools in /opt/miniconda3/envs/datapractise/lib/python3.10/site-packages (from spacy>=2.1.4->pyresparser) (65.3.0)\n",
      "Requirement already satisfied: plac<1.2.0,>=0.9.6 in /opt/miniconda3/envs/datapractise/lib/python3.10/site-packages (from spacy>=2.1.4->pyresparser) (1.1.3)\n",
      "Requirement already satisfied: cffi>=1.12 in /opt/miniconda3/envs/datapractise/lib/python3.10/site-packages (from cryptography>=36.0.0->pdfminer.six>=20181108->pyresparser) (1.15.1)\n",
      "Requirement already satisfied: pycparser in /opt/miniconda3/envs/datapractise/lib/python3.10/site-packages (from cffi>=1.12->cryptography>=36.0.0->pdfminer.six>=20181108->pyresparser) (2.21)\n"
     ]
    }
   ],
   "source": [
    "#Install our library\n",
    "!pip install pyresparser"
   ]
  },
  {
   "cell_type": "code",
   "execution_count": 4,
   "metadata": {},
   "outputs": [
    {
     "name": "stderr",
     "output_type": "stream",
     "text": [
      "[nltk_data] Downloading package words to /Users/supg/nltk_data...\n",
      "[nltk_data]   Package words is already up-to-date!\n",
      "[nltk_data] Downloading package stopwords to /Users/supg/nltk_data...\n",
      "[nltk_data]   Package stopwords is already up-to-date!\n"
     ]
    }
   ],
   "source": [
    "import nltk\n",
    "nltk.download('words')\n",
    "nltk.download('stopwords')\n",
    "from nltk.corpus import words"
   ]
  },
  {
   "cell_type": "code",
   "execution_count": 5,
   "metadata": {},
   "outputs": [],
   "source": [
    "\n",
    "from pyresparser import ResumeParser\n",
    "import warnings # used to ignore the warnings."
   ]
  },
  {
   "cell_type": "code",
   "execution_count": 6,
   "metadata": {},
   "outputs": [],
   "source": [
    "\n",
    "warnings.filterwarnings(\"ignore\", category=UserWarning)"
   ]
  },
  {
   "cell_type": "code",
   "execution_count": 10,
   "metadata": {},
   "outputs": [],
   "source": [
    "#provide the directory for the file\n",
    "\n",
    "resume = \"/Users/supg/Desktop/resume_parser/test_resume2.pdf\""
   ]
  },
  {
   "cell_type": "code",
   "execution_count": 11,
   "metadata": {},
   "outputs": [],
   "source": [
    "data = ResumeParser(resume).get_extracted_data()"
   ]
  },
  {
   "cell_type": "code",
   "execution_count": 12,
   "metadata": {},
   "outputs": [
    {
     "data": {
      "text/plain": [
       "{'name': 'Sanad Dhital',\n",
       " 'email': 'sanad1.6180@gmail.com',\n",
       " 'mobile_number': None,\n",
       " 'skills': ['Strategy',\n",
       "  'Analytics',\n",
       "  'Statistics',\n",
       "  'English',\n",
       "  'Certification',\n",
       "  'Python',\n",
       "  'Health',\n",
       "  'Mobile',\n",
       "  'Analysis',\n",
       "  'Excel',\n",
       "  'Training',\n",
       "  'Gis',\n",
       "  'Sql',\n",
       "  'Math',\n",
       "  'Tableau',\n",
       "  'Mathematics',\n",
       "  'R',\n",
       "  'Project management',\n",
       "  'Calculus'],\n",
       " 'college_name': None,\n",
       " 'degree': None,\n",
       " 'designation': None,\n",
       " 'experience': ['Academic Success Centre',\n",
       "  'Park University',\n",
       "  'Student Tutor',\n",
       "  '\\uf0b7  Assisted college students from diverse majors to complete their math requirement for',\n",
       "  '2021-present',\n",
       "  '\\uf0b7',\n",
       "  'graduation',\n",
       "  'Improved understanding of advanced math concepts primarily focusing on calculus and',\n",
       "  'linear algebra aimed at STEM students',\n",
       "  '\\uf0b7  Prepared lesson plans and test techniques to guide students prepare for quizzes and finals',\n",
       "  'Technology Exploration Committee (TEC)',\n",
       "  'Park University',\n",
       "  'Co-chair',\n",
       "  '2021-present'],\n",
       " 'company_names': None,\n",
       " 'no_of_pages': 1,\n",
       " 'total_experience': 0.0}"
      ]
     },
     "execution_count": 12,
     "metadata": {},
     "output_type": "execute_result"
    }
   ],
   "source": [
    "data"
   ]
  },
  {
   "cell_type": "code",
   "execution_count": null,
   "metadata": {},
   "outputs": [],
   "source": []
  },
  {
   "cell_type": "code",
   "execution_count": null,
   "metadata": {},
   "outputs": [],
   "source": []
  },
  {
   "cell_type": "code",
   "execution_count": null,
   "metadata": {},
   "outputs": [],
   "source": []
  }
 ],
 "metadata": {
  "kernelspec": {
   "display_name": "Python 3.10.6 ('datapractise')",
   "language": "python",
   "name": "python3"
  },
  "language_info": {
   "codemirror_mode": {
    "name": "ipython",
    "version": 3
   },
   "file_extension": ".py",
   "mimetype": "text/x-python",
   "name": "python",
   "nbconvert_exporter": "python",
   "pygments_lexer": "ipython3",
   "version": "3.10.6"
  },
  "orig_nbformat": 4,
  "vscode": {
   "interpreter": {
    "hash": "cd37d8a24921f161e88cb9ea9126e49741c22e9b115689be0a41fcff2802b962"
   }
  }
 },
 "nbformat": 4,
 "nbformat_minor": 2
}
